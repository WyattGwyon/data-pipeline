{
 "cells": [
  {
   "cell_type": "code",
   "execution_count": 56,
   "metadata": {},
   "outputs": [],
   "source": [
    "import pandas as pd\n",
    "import requests\n",
    "import seaborn as sns\n",
    "import matplotlib.pyplot as plt\n",
    "import numpy as np\n",
    "import re\n",
    "import io\n",
    "from bs4 import BeautifulSoup"
   ]
  },
  {
   "cell_type": "code",
   "execution_count": 57,
   "metadata": {},
   "outputs": [
    {
     "data": {
      "text/html": [
       "<div>\n",
       "<style scoped>\n",
       "    .dataframe tbody tr th:only-of-type {\n",
       "        vertical-align: middle;\n",
       "    }\n",
       "\n",
       "    .dataframe tbody tr th {\n",
       "        vertical-align: top;\n",
       "    }\n",
       "\n",
       "    .dataframe thead th {\n",
       "        text-align: right;\n",
       "    }\n",
       "</style>\n",
       "<table border=\"1\" class=\"dataframe\">\n",
       "  <thead>\n",
       "    <tr style=\"text-align: right;\">\n",
       "      <th></th>\n",
       "      <th>Member_number</th>\n",
       "      <th>itemDescription</th>\n",
       "      <th>date</th>\n",
       "    </tr>\n",
       "  </thead>\n",
       "  <tbody>\n",
       "    <tr>\n",
       "      <th>0</th>\n",
       "      <td>1808</td>\n",
       "      <td>tropical fruit</td>\n",
       "      <td>2015-07-21</td>\n",
       "    </tr>\n",
       "    <tr>\n",
       "      <th>1</th>\n",
       "      <td>2552</td>\n",
       "      <td>whole milk</td>\n",
       "      <td>2015-05-01</td>\n",
       "    </tr>\n",
       "    <tr>\n",
       "      <th>2</th>\n",
       "      <td>2300</td>\n",
       "      <td>pip fruit</td>\n",
       "      <td>2015-09-19</td>\n",
       "    </tr>\n",
       "    <tr>\n",
       "      <th>3</th>\n",
       "      <td>1187</td>\n",
       "      <td>other vegetables</td>\n",
       "      <td>2015-12-12</td>\n",
       "    </tr>\n",
       "    <tr>\n",
       "      <th>4</th>\n",
       "      <td>3037</td>\n",
       "      <td>whole milk</td>\n",
       "      <td>2015-01-02</td>\n",
       "    </tr>\n",
       "    <tr>\n",
       "      <th>...</th>\n",
       "      <td>...</td>\n",
       "      <td>...</td>\n",
       "      <td>...</td>\n",
       "    </tr>\n",
       "    <tr>\n",
       "      <th>38760</th>\n",
       "      <td>4471</td>\n",
       "      <td>sliced cheese</td>\n",
       "      <td>2014-08-10</td>\n",
       "    </tr>\n",
       "    <tr>\n",
       "      <th>38761</th>\n",
       "      <td>2022</td>\n",
       "      <td>candy</td>\n",
       "      <td>2014-02-23</td>\n",
       "    </tr>\n",
       "    <tr>\n",
       "      <th>38762</th>\n",
       "      <td>1097</td>\n",
       "      <td>cake bar</td>\n",
       "      <td>2014-04-16</td>\n",
       "    </tr>\n",
       "    <tr>\n",
       "      <th>38763</th>\n",
       "      <td>1510</td>\n",
       "      <td>fruit/vegetable juice</td>\n",
       "      <td>2014-03-12</td>\n",
       "    </tr>\n",
       "    <tr>\n",
       "      <th>38764</th>\n",
       "      <td>1521</td>\n",
       "      <td>cat food</td>\n",
       "      <td>2014-12-26</td>\n",
       "    </tr>\n",
       "  </tbody>\n",
       "</table>\n",
       "<p>38765 rows × 3 columns</p>\n",
       "</div>"
      ],
      "text/plain": [
       "       Member_number        itemDescription       date\n",
       "0               1808         tropical fruit 2015-07-21\n",
       "1               2552             whole milk 2015-05-01\n",
       "2               2300              pip fruit 2015-09-19\n",
       "3               1187       other vegetables 2015-12-12\n",
       "4               3037             whole milk 2015-01-02\n",
       "...              ...                    ...        ...\n",
       "38760           4471          sliced cheese 2014-08-10\n",
       "38761           2022                  candy 2014-02-23\n",
       "38762           1097               cake bar 2014-04-16\n",
       "38763           1510  fruit/vegetable juice 2014-03-12\n",
       "38764           1521               cat food 2014-12-26\n",
       "\n",
       "[38765 rows x 3 columns]"
      ]
     },
     "execution_count": 57,
     "metadata": {},
     "output_type": "execute_result"
    }
   ],
   "source": [
    "df = pd.read_csv('Groceries_dataset.csv')\n",
    "df['date'] = pd.to_datetime(df['Date'])\n",
    "df = df.drop('Date',axis=1)\n",
    "df"
   ]
  },
  {
   "cell_type": "code",
   "execution_count": 58,
   "metadata": {},
   "outputs": [
    {
     "data": {
      "text/plain": [
       "<Response [200]>"
      ]
     },
     "execution_count": 58,
     "metadata": {},
     "output_type": "execute_result"
    }
   ],
   "source": [
    "requests.get(\"https://www.waitrose.com/ecom/shop/browse/groceries\")"
   ]
  },
  {
   "cell_type": "code",
   "execution_count": 59,
   "metadata": {},
   "outputs": [],
   "source": [
    "groc = requests.get(\"https://www.waitrose.com/ecom/shop/browse/groceries\")"
   ]
  },
  {
   "cell_type": "code",
   "execution_count": 60,
   "metadata": {},
   "outputs": [],
   "source": [
    "soup = BeautifulSoup(groc.text)"
   ]
  },
  {
   "cell_type": "markdown",
   "metadata": {},
   "source": [
    "## The following attempt to clean the text is not working as expected and not able to find a solution\n",
    "- We tried to create a list of invalid words in order to sort them out of the "
   ]
  },
  {
   "cell_type": "code",
   "execution_count": 218,
   "metadata": {},
   "outputs": [
    {
     "name": "stdout",
     "output_type": "stream",
     "text": [
      "['Essential Carrots', 'Essential Fairtrade Bananas', 'Essential Carrots', 'Essential Lemon', 'Waitrose 2 Scottish Salmon Fillets', 'Duchy Carrots', 'Essential Semi Skimmed Milk', 'Essential Broccoli', 'Waitrose Mild Scottish Oak Smoked Salmon', 'Lurpak Spreadable Slightly Salted', 'Duchy Broccoli', 'Waitrose Aberdeen Angus Beef Lean Mince 10% Fat', 'Waitrose Seedless Grape Selection', 'Essential British Chicken Mini Breast Fillets', 'Waitrose 2 Sea Bass Fillets', 'Essential Semi Skimmed Milk', 'Essential Cucumber', 'Essential British Beef Diced Braising Steak', 'Duchy Blueberries', 'essential Waitrose Fairtrade Bananas', 'Essential Large Potatoes', 'Waitrose Breaded Chunky Cod', 'Président Butter Unsalted', 'Waitrose Aberdeen Angus Beef Sirloin Steak', 'Essential Cauliflower', 'Perfectly Ripe Avocados', 'Waitrose 2 Wild Alaskan Keta Salmon Fillets', 'Essential Blueberries', 'essential Waitrose Thick Bleach Citrus', 'Waitrose Duchy British Free Range Eggs Medium', 'Duchy Organic Free Range British Whole Chicken', 'Essential Small Whole Chicken', 'Waitrose Seedless Easy Peelers Sweet Mandarins', 'Essential British Chicken 2 Breast Fillets', 'Waitrose Filtered Semi Skimmed Milk', 'Essential Red Peppers', 'Essential Lime', 'Essential Pointed Spring Cabbage', 'Waitrose Multigrain Farmhouse Batch', 'Waitrose 2 Chicken Kievs with Garlic and Parsley Butter', 'Cherry Vine Tomatoes', 'Essential Garden Peas', 'Essential Free Range White Eggs', 'Essential Lemons', 'Essential Red Seedless Grapes', 'Essential Butternut Squash', 'Waitrose trimmed baby sprouts', 'Waitrose trimmed tenderstem broccoli']\n",
      "---------products----------\n"
     ]
    },
    {
     "data": {
      "text/plain": [
       "[['Essential', 'Carrots'],\n",
       " ['Essential', 'Fairtrade', 'Bananas'],\n",
       " ['Essential', 'Carrots'],\n",
       " ['Essential', 'Lemon'],\n",
       " ['Waitrose', '2', 'Scottish', 'Salmon', 'Fillets'],\n",
       " ['Duchy', 'Carrots'],\n",
       " ['Essential', 'Semi', 'Skimmed', 'Milk'],\n",
       " ['Essential', 'Broccoli'],\n",
       " ['Waitrose', 'Mild', 'Scottish', 'Oak', 'Smoked', 'Salmon'],\n",
       " ['Lurpak', 'Spreadable', 'Slightly', 'Salted'],\n",
       " ['Duchy', 'Broccoli'],\n",
       " ['Waitrose', 'Aberdeen', 'Angus', 'Beef', 'Lean', 'Mince', '10%', 'Fat'],\n",
       " ['Waitrose', 'Seedless', 'Grape', 'Selection'],\n",
       " ['Essential', 'British', 'Chicken', 'Mini', 'Breast', 'Fillets'],\n",
       " ['Waitrose', '2', 'Sea', 'Bass', 'Fillets'],\n",
       " ['Essential', 'Semi', 'Skimmed', 'Milk'],\n",
       " ['Essential', 'Cucumber'],\n",
       " ['Essential', 'British', 'Beef', 'Diced', 'Braising', 'Steak'],\n",
       " ['Duchy', 'Blueberries'],\n",
       " ['essential', 'Waitrose', 'Fairtrade', 'Bananas'],\n",
       " ['Essential', 'Large', 'Potatoes'],\n",
       " ['Waitrose', 'Breaded', 'Chunky', 'Cod'],\n",
       " ['Président', 'Butter', 'Unsalted'],\n",
       " ['Waitrose', 'Aberdeen', 'Angus', 'Beef', 'Sirloin', 'Steak'],\n",
       " ['Essential', 'Cauliflower'],\n",
       " ['Perfectly', 'Ripe', 'Avocados'],\n",
       " ['Waitrose', '2', 'Wild', 'Alaskan', 'Keta', 'Salmon', 'Fillets'],\n",
       " ['Essential', 'Blueberries'],\n",
       " ['essential', 'Waitrose', 'Thick', 'Bleach', 'Citrus'],\n",
       " ['Waitrose', 'Duchy', 'British', 'Free', 'Range', 'Eggs', 'Medium'],\n",
       " ['Duchy', 'Organic', 'Free', 'Range', 'British', 'Whole', 'Chicken'],\n",
       " ['Essential', 'Small', 'Whole', 'Chicken'],\n",
       " ['Waitrose', 'Seedless', 'Easy', 'Peelers', 'Sweet', 'Mandarins'],\n",
       " ['Essential', 'British', 'Chicken', '2', 'Breast', 'Fillets'],\n",
       " ['Waitrose', 'Filtered', 'Semi', 'Skimmed', 'Milk'],\n",
       " ['Essential', 'Red', 'Peppers'],\n",
       " ['Essential', 'Lime'],\n",
       " ['Essential', 'Pointed', 'Spring', 'Cabbage'],\n",
       " ['Waitrose', 'Multigrain', 'Farmhouse', 'Batch'],\n",
       " ['Waitrose',\n",
       "  '2',\n",
       "  'Chicken',\n",
       "  'Kievs',\n",
       "  'with',\n",
       "  'Garlic',\n",
       "  'and',\n",
       "  'Parsley',\n",
       "  'Butter'],\n",
       " ['Cherry', 'Vine', 'Tomatoes'],\n",
       " ['Essential', 'Garden', 'Peas'],\n",
       " ['Essential', 'Free', 'Range', 'White', 'Eggs'],\n",
       " ['Essential', 'Lemons'],\n",
       " ['Essential', 'Red', 'Seedless', 'Grapes'],\n",
       " ['Essential', 'Butternut', 'Squash'],\n",
       " ['Waitrose', 'trimmed', 'baby', 'sprouts'],\n",
       " ['Waitrose', 'trimmed', 'tenderstem', 'broccoli']]"
      ]
     },
     "execution_count": 218,
     "metadata": {},
     "output_type": "execute_result"
    }
   ],
   "source": [
    "#products = [p.select(\"\") for p in products]\n",
    "\n",
    "prod = soup.select('span.name___CmYia')\n",
    "products = [child.text for child in prod]\n",
    "#print(products)\n",
    "#print(\"---------products----------\")\n",
    "\n",
    "split_p = []\n",
    "\n",
    "non_valid = ['Essential', 'Fairtrade', 'Waitrose', 'Mild', 'Scottish', 'Oak', 'Smoked', 'Essential', 'Duchy']\n",
    "for p in products:\n",
    "#    print(p)\n",
    "#    print(\"------p------\")\n",
    "    sp_p = p.split(\" \")\n",
    "    split_p.append(sp_p)\n",
    "    \n",
    "    \n",
    "#for lst in split_p:\n",
    "#    for word in lst:\n",
    "#        if word in non_valid:\n",
    "#            split_p.remove(word)\n",
    "#        \n",
    "#    print(\"----------------sp_p----------\")\n",
    "#    for word in sp_p:\n",
    "#        print(word)\n",
    "#        print(\"------------------word---------------------\")\n",
    "#        if word not in non_valid:\n",
    "#            split_p.append(word)\n",
    "#            print(sp_p)\n",
    "#            print(\"--------------------sp_p-------------------------------\")\n",
    "\n",
    "split_p\n",
    "    "
   ]
  },
  {
   "cell_type": "code",
   "execution_count": 219,
   "metadata": {},
   "outputs": [
    {
     "name": "stdout",
     "output_type": "stream",
     "text": [
      "['50', '15', '7', '35', '450', '75', '115', '46', '500', '275', '130', '375', '230', '350', '550', '89', '60', '400', '250', '100', '22', '475', '200', '450', '100', '200', '500', '200', '60', '200', '816', '350', '200', '350', '135', '50', '35', '65', '125', '375', '300', '135', '100', '180', '200', '180', '110', '110']\n"
     ]
    }
   ],
   "source": [
    "# There were a lot of problems combining the steps.\n",
    "# Monetary values are not to be converted to float so the decimal was removed.\n",
    "prices = []        \n",
    "pr = []\n",
    "prod_price = []\n",
    "p_price = []\n",
    "pro_price = []\n",
    "\n",
    "price = soup.select('div.prices___1JkR4')\n",
    "\n",
    "for p in price:\n",
    "    p.find_all('span')\n",
    "    prices.append(p.text)\n",
    "\n",
    "for p in prices:\n",
    "    pri = re.sub(r\"^(Item price)\", \"\", p)\n",
    "    pr.append(pri)\n",
    "\n",
    "for p in pr:\n",
    "    lst = re.split(r\"[Pp\\s]\", p)\n",
    "    prod_price.append(lst[0])\n",
    "    \n",
    "for p in prod_price:\n",
    "    li = re.sub(r\"(£)\",\"\",p)\n",
    "    p_price.append(li) \n",
    "\n",
    "for p in p_price:\n",
    "    l = re.sub(r\"[.]\",\"\",p)\n",
    "    pro_price.append(l)\n",
    "    \n",
    "print(pro_price)\n",
    "    \n",
    "\n",
    "    \n"
   ]
  },
  {
   "cell_type": "markdown",
   "metadata": {},
   "source": [
    "**create a generator to yield URLS for the subsequent pages \n",
    "and parse the result with another function. \n",
    "You will need the searchId which you can't get from the URL \n",
    "but it's in a hidden field on the page.**\n",
    "\n"
   ]
  },
  {
   "cell_type": "code",
   "execution_count": null,
   "metadata": {},
   "outputs": [],
   "source": []
  },
  {
   "cell_type": "markdown",
   "metadata": {},
   "source": [
    "### Not sure how to advance the page. There is no change in the classes when the load page is clicked and no indication of url or page number."
   ]
  },
  {
   "cell_type": "code",
   "execution_count": null,
   "metadata": {},
   "outputs": [],
   "source": []
  }
 ],
 "metadata": {
  "kernelspec": {
   "display_name": "Python 3",
   "language": "python",
   "name": "python3"
  },
  "language_info": {
   "codemirror_mode": {
    "name": "ipython",
    "version": 3
   },
   "file_extension": ".py",
   "mimetype": "text/x-python",
   "name": "python",
   "nbconvert_exporter": "python",
   "pygments_lexer": "ipython3",
   "version": "3.8.5"
  }
 },
 "nbformat": 4,
 "nbformat_minor": 4
}
